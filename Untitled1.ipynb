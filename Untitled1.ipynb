{
 "cells": [
  {
   "cell_type": "code",
   "execution_count": 2,
   "id": "55cd0d04-b1e5-4417-b0eb-a97df5a4dce6",
   "metadata": {},
   "outputs": [],
   "source": [
    "import dash\n",
    "import dash_core_components as dcc\n",
    "import dash_html_components as html\n",
    "import pandas as pd\n",
    "import plotly.graph_objs as go\n",
    "from dash.dependencies import Input, Output\n",
    "from keras.models import load_model\n",
    "from sklearn.preprocessing import MinMaxScaler\n",
    "import numpy as np\n"
   ]
  },
  {
   "cell_type": "code",
   "execution_count": 3,
   "id": "55eafb14-2c45-4b3f-9c05-72839b6e35d9",
   "metadata": {},
   "outputs": [],
   "source": [
    "app = dash.Dash()\n",
    "server = app.server"
   ]
  },
  {
   "cell_type": "code",
   "execution_count": 4,
   "id": "2996736d-e6c6-4d74-8ce2-1cb4fe66a227",
   "metadata": {},
   "outputs": [],
   "source": [
    "scaler=MinMaxScaler(feature_range=(0,1))"
   ]
  },
  {
   "cell_type": "code",
   "execution_count": 5,
   "id": "b9610f80-5c00-4c5f-9a30-0759e7441e7f",
   "metadata": {},
   "outputs": [],
   "source": [
    "df_nse = pd.read_csv(\"./NSE-Tata-Global-Beverages-Limited.csv\")"
   ]
  },
  {
   "cell_type": "code",
   "execution_count": 6,
   "id": "f31d7be4-b1ff-4aa7-94dd-81ea17ef6d9a",
   "metadata": {},
   "outputs": [],
   "source": [
    "\n",
    "df_nse[\"Date\"]=pd.to_datetime(df_nse.Date,format=\"%Y-%m-%d\")\n",
    "df_nse.index=df_nse['Date']"
   ]
  },
  {
   "cell_type": "code",
   "execution_count": 7,
   "id": "5055004b-8136-4ac0-b155-b0bee8508f53",
   "metadata": {},
   "outputs": [],
   "source": [
    "data=df_nse.sort_index(ascending=True,axis=0)\n",
    "new_data=pd.DataFrame(index=range(0,len(df_nse)),columns=['Date','Close'])"
   ]
  },
  {
   "cell_type": "code",
   "execution_count": 8,
   "id": "40b04db1-dc10-4964-8362-7fec4cd7c1b3",
   "metadata": {},
   "outputs": [
    {
     "name": "stderr",
     "output_type": "stream",
     "text": [
      "C:\\Users\\HP\\AppData\\Local\\Temp\\ipykernel_12332\\3459870503.py:2: FutureWarning:\n",
      "\n",
      "Series.__getitem__ treating keys as positions is deprecated. In a future version, integer keys will always be treated as labels (consistent with DataFrame behavior). To access a value by position, use `ser.iloc[pos]`\n",
      "\n",
      "C:\\Users\\HP\\AppData\\Local\\Temp\\ipykernel_12332\\3459870503.py:3: FutureWarning:\n",
      "\n",
      "Series.__getitem__ treating keys as positions is deprecated. In a future version, integer keys will always be treated as labels (consistent with DataFrame behavior). To access a value by position, use `ser.iloc[pos]`\n",
      "\n"
     ]
    }
   ],
   "source": [
    "for i in range(0,len(data)):\n",
    "    new_data[\"Date\"][i]=data['Date'][i]\n",
    "    new_data[\"Close\"][i]=data[\"Close\"][i]"
   ]
  },
  {
   "cell_type": "code",
   "execution_count": 9,
   "id": "1e043f9c-538a-40ac-99a0-e3ac4f60cab2",
   "metadata": {},
   "outputs": [],
   "source": [
    "new_data.index=new_data.Date\n",
    "new_data.drop(\"Date\",axis=1,inplace=True)"
   ]
  },
  {
   "cell_type": "code",
   "execution_count": 10,
   "id": "3d4d07a9-efe8-45b6-ba82-aa11db66fe9a",
   "metadata": {},
   "outputs": [],
   "source": [
    "dataset=new_data.values"
   ]
  },
  {
   "cell_type": "code",
   "execution_count": 11,
   "id": "2060e24e-7b02-4349-bc11-126efa6ab85b",
   "metadata": {},
   "outputs": [],
   "source": [
    "\n",
    "train=dataset[0:987,:]\n",
    "valid=dataset[987:,:]"
   ]
  },
  {
   "cell_type": "code",
   "execution_count": 12,
   "id": "9d87763e-b153-4eac-b5b2-e2ebbdceafe3",
   "metadata": {},
   "outputs": [],
   "source": [
    "\n",
    "\n",
    "\n",
    "scaler=MinMaxScaler(feature_range=(0,1))\n",
    "scaled_data=scaler.fit_transform(dataset)"
   ]
  },
  {
   "cell_type": "code",
   "execution_count": 13,
   "id": "87579a2b-17ef-4ce4-a0ff-926e1e8a6cea",
   "metadata": {},
   "outputs": [],
   "source": [
    "x_train,y_train=[],[]"
   ]
  },
  {
   "cell_type": "code",
   "execution_count": 14,
   "id": "d6f85593-7f32-4f43-a195-4548fbabe4fd",
   "metadata": {},
   "outputs": [],
   "source": [
    "for i in range(60,len(train)):\n",
    "    x_train.append(scaled_data[i-60:i,0])\n",
    "    y_train.append(scaled_data[i,0])"
   ]
  },
  {
   "cell_type": "code",
   "execution_count": 15,
   "id": "6b209556-7650-4a63-904d-7b3eca9ff411",
   "metadata": {},
   "outputs": [],
   "source": [
    "x_train,y_train=np.array(x_train),np.array(y_train)"
   ]
  },
  {
   "cell_type": "code",
   "execution_count": 16,
   "id": "25b65edc-fcc9-4a51-a88a-3e84c99c4eee",
   "metadata": {},
   "outputs": [],
   "source": [
    "x_train=np.reshape(x_train,(x_train.shape[0],x_train.shape[1],1))"
   ]
  },
  {
   "cell_type": "code",
   "execution_count": 17,
   "id": "46fb188e-9c0b-4721-8a56-8df9becc9096",
   "metadata": {},
   "outputs": [
    {
     "name": "stdout",
     "output_type": "stream",
     "text": [
      "WARNING:tensorflow:From C:\\Users\\HP\\AppData\\Local\\Programs\\Python\\Python311\\Lib\\site-packages\\keras\\src\\backend.py:1398: The name tf.executing_eagerly_outside_functions is deprecated. Please use tf.compat.v1.executing_eagerly_outside_functions instead.\n",
      "\n"
     ]
    }
   ],
   "source": [
    "\n",
    "\n",
    "model=load_model(\"saved_lstm_model.h5\")"
   ]
  },
  {
   "cell_type": "code",
   "execution_count": 18,
   "id": "6481a62a-8510-4f37-b057-9c39ae15bc09",
   "metadata": {},
   "outputs": [],
   "source": [
    "inputs=new_data[len(new_data)-len(valid)-60:].values\n",
    "inputs=inputs.reshape(-1,1)\n",
    "inputs=scaler.transform(inputs)"
   ]
  },
  {
   "cell_type": "code",
   "execution_count": 19,
   "id": "7b493531-277e-440b-80eb-63c5fff2b887",
   "metadata": {},
   "outputs": [],
   "source": [
    "\n",
    "\n",
    "X_test=[]\n",
    "for i in range(60,inputs.shape[0]):\n",
    "    X_test.append(inputs[i-60:i,0])\n",
    "X_test=np.array(X_test)"
   ]
  },
  {
   "cell_type": "code",
   "execution_count": 20,
   "id": "7b8f3f09-005c-4e34-931a-f55ac0f048b7",
   "metadata": {},
   "outputs": [
    {
     "name": "stdout",
     "output_type": "stream",
     "text": [
      "8/8 [==============================] - 1s 15ms/step\n"
     ]
    }
   ],
   "source": [
    "X_test=np.reshape(X_test,(X_test.shape[0],X_test.shape[1],1))\n",
    "closing_price=model.predict(X_test)\n",
    "closing_price=scaler.inverse_transform(closing_price)"
   ]
  },
  {
   "cell_type": "code",
   "execution_count": 21,
   "id": "763d67e5-3fcf-4063-9bbc-cf887d3661d3",
   "metadata": {},
   "outputs": [
    {
     "name": "stderr",
     "output_type": "stream",
     "text": [
      "C:\\Users\\HP\\AppData\\Local\\Temp\\ipykernel_12332\\1968369711.py:3: SettingWithCopyWarning:\n",
      "\n",
      "\n",
      "A value is trying to be set on a copy of a slice from a DataFrame.\n",
      "Try using .loc[row_indexer,col_indexer] = value instead\n",
      "\n",
      "See the caveats in the documentation: https://pandas.pydata.org/pandas-docs/stable/user_guide/indexing.html#returning-a-view-versus-a-copy\n",
      "\n"
     ]
    }
   ],
   "source": [
    "train=new_data[:987]\n",
    "valid=new_data[987:]\n",
    "valid['Predictions']=closing_price"
   ]
  },
  {
   "cell_type": "code",
   "execution_count": 22,
   "id": "694c4d8d-c4c3-4078-b2ae-d9d7778e4bf5",
   "metadata": {},
   "outputs": [],
   "source": [
    "df= pd.read_csv(\"./stock_data.csv\")"
   ]
  },
  {
   "cell_type": "code",
   "execution_count": 23,
   "id": "9ff8d428-93ee-49a6-8cff-20a7de1cdfc0",
   "metadata": {},
   "outputs": [],
   "source": [
    "app.layout = html.Div([\n",
    "   \n",
    "    html.H1(\"Stock Price Analysis Dashboard\", style={\"textAlign\": \"center\"}),\n",
    "   \n",
    "    dcc.Tabs(id=\"tabs\", children=[\n",
    "       \n",
    "        dcc.Tab(label='NSE-TATAGLOBAL Stock Data',children=[\n",
    "\t\t\thtml.Div([\n",
    "\t\t\t\thtml.H2(\"Actual closing price\",style={\"textAlign\": \"center\"}),\n",
    "\t\t\t\tdcc.Graph(\n",
    "\t\t\t\t\tid=\"Actual Data\",\n",
    "\t\t\t\t\tfigure={\n",
    "\t\t\t\t\t\t\"data\":[\n",
    "\t\t\t\t\t\t\tgo.Scatter(\n",
    "\t\t\t\t\t\t\t\tx=train.index,\n",
    "\t\t\t\t\t\t\t\ty=valid[\"Close\"],\n",
    "\t\t\t\t\t\t\t\tmode='markers'\n",
    "\t\t\t\t\t\t\t)\n",
    "\n",
    "\t\t\t\t\t\t],\n",
    "\t\t\t\t\t\t\"layout\":go.Layout(\n",
    "\t\t\t\t\t\t\ttitle='scatter plot',\n",
    "\t\t\t\t\t\t\txaxis={'title':'Date'},\n",
    "\t\t\t\t\t\t\tyaxis={'title':'Closing Rate'}\n",
    "\t\t\t\t\t\t)\n",
    "\t\t\t\t\t}\n",
    "\n",
    "\t\t\t\t),\n",
    "\t\t\t\thtml.H2(\"LSTM Predicted closing price\",style={\"textAlign\": \"center\"}),\n",
    "\t\t\t\tdcc.Graph(\n",
    "\t\t\t\t\tid=\"Predicted Data\",\n",
    "\t\t\t\t\tfigure={\n",
    "\t\t\t\t\t\t\"data\":[\n",
    "\t\t\t\t\t\t\tgo.Scatter(\n",
    "\t\t\t\t\t\t\t\tx=valid.index,\n",
    "\t\t\t\t\t\t\t\ty=valid[\"Predictions\"],\n",
    "\t\t\t\t\t\t\t\tmode='markers'\n",
    "\t\t\t\t\t\t\t)\n",
    "\n",
    "\t\t\t\t\t\t],\n",
    "\t\t\t\t\t\t\"layout\":go.Layout(\n",
    "\t\t\t\t\t\t\ttitle='scatter plot',\n",
    "\t\t\t\t\t\t\txaxis={'title':'Date'},\n",
    "\t\t\t\t\t\t\tyaxis={'title':'Closing Rate'}\n",
    "\t\t\t\t\t\t)\n",
    "\t\t\t\t\t}\n",
    "\n",
    "\t\t\t\t)\t\t\t\t\n",
    "\t\t\t])        \t\t\n",
    "\n",
    "\n",
    "        ]),\n",
    "        dcc.Tab(label='Facebook Stock Data', children=[\n",
    "            html.Div([\n",
    "                html.H1(\"Stocks High vs Lows\", \n",
    "                        style={'textAlign': 'center'}),\n",
    "              \n",
    "                dcc.Dropdown(id='my-dropdown',\n",
    "                             options=[{'label': 'Tesla', 'value': 'TSLA'},\n",
    "                                      {'label': 'Apple','value': 'AAPL'}, \n",
    "                                      {'label': 'Facebook', 'value': 'FB'}, \n",
    "                                      {'label': 'Microsoft','value': 'MSFT'}], \n",
    "                             multi=True,value=['FB'],\n",
    "                             style={\"display\": \"block\", \"margin-left\": \"auto\", \n",
    "                                    \"margin-right\": \"auto\", \"width\": \"60%\"}),\n",
    "                dcc.Graph(id='highlow'),\n",
    "                html.H1(\"Stocks Market Volume\", style={'textAlign': 'center'}),\n",
    "         \n",
    "                dcc.Dropdown(id='my-dropdown2',\n",
    "                             options=[{'label': 'Tesla', 'value': 'TSLA'},\n",
    "                                      {'label': 'Apple','value': 'AAPL'}, \n",
    "                                      {'label': 'Facebook', 'value': 'FB'},\n",
    "                                      {'label': 'Microsoft','value': 'MSFT'}], \n",
    "                             multi=True,value=['FB'],\n",
    "                             style={\"display\": \"block\", \"margin-left\": \"auto\", \n",
    "                                    \"margin-right\": \"auto\", \"width\": \"60%\"}),\n",
    "                dcc.Graph(id='volume')\n",
    "            ], className=\"container\"),\n",
    "        ])\n",
    "\n",
    "\n",
    "    ])\n",
    "])\n"
   ]
  },
  {
   "cell_type": "code",
   "execution_count": 24,
   "id": "93112698-0390-45ad-bde8-3ef4b40222e3",
   "metadata": {},
   "outputs": [],
   "source": [
    "@app.callback(Output('highlow', 'figure'),\n",
    "              [Input('my-dropdown', 'value')])\n",
    "def update_graph(selected_dropdown):\n",
    "    dropdown = {\"TSLA\": \"Tesla\",\"AAPL\": \"Apple\",\"FB\": \"Facebook\",\"MSFT\": \"Microsoft\",}\n",
    "    trace1 = []\n",
    "    trace2 = []\n",
    "    for stock in selected_dropdown:\n",
    "        trace1.append(\n",
    "          go.Scatter(x=df[df[\"Stock\"] == stock][\"Date\"],\n",
    "                     y=df[df[\"Stock\"] == stock][\"High\"],\n",
    "                     mode='lines', opacity=0.7, \n",
    "                     name=f'High {dropdown[stock]}',textposition='bottom center'))\n",
    "        trace2.append(\n",
    "          go.Scatter(x=df[df[\"Stock\"] == stock][\"Date\"],\n",
    "                     y=df[df[\"Stock\"] == stock][\"Low\"],\n",
    "                     mode='lines', opacity=0.6,\n",
    "                     name=f'Low {dropdown[stock]}',textposition='bottom center'))\n",
    "    traces = [trace1, trace2]\n",
    "    data = [val for sublist in traces for val in sublist]\n",
    "    figure = {'data': data,\n",
    "              'layout': go.Layout(colorway=[\"#5E0DAC\", '#FF4F00', '#375CB1', \n",
    "                                            '#FF7400', '#FFF400', '#FF0056'],\n",
    "            height=600,\n",
    "            title=f\"High and Low Prices for {', '.join(str(dropdown[i]) for i in selected_dropdown)} Over Time\",\n",
    "            xaxis={\"title\":\"Date\",\n",
    "                   'rangeselector': {'buttons': list([{'count': 1, 'label': '1M', \n",
    "                                                       'step': 'month', \n",
    "                                                       'stepmode': 'backward'},\n",
    "                                                      {'count': 6, 'label': '6M', \n",
    "                                                       'step': 'month', \n",
    "                                                       'stepmode': 'backward'},\n",
    "                                                      {'step': 'all'}])},\n",
    "                   'rangeslider': {'visible': True}, 'type': 'date'},\n",
    "             yaxis={\"title\":\"Price (USD)\"})}\n",
    "    return figure\n"
   ]
  },
  {
   "cell_type": "code",
   "execution_count": 25,
   "id": "4c216989-e775-4df3-8738-79a492e5720f",
   "metadata": {},
   "outputs": [
    {
     "data": {
      "text/html": [
       "\n",
       "        <iframe\n",
       "            width=\"100%\"\n",
       "            height=\"650\"\n",
       "            src=\"http://127.0.0.1:8050/\"\n",
       "            frameborder=\"0\"\n",
       "            allowfullscreen\n",
       "            \n",
       "        ></iframe>\n",
       "        "
      ],
      "text/plain": [
       "<IPython.lib.display.IFrame at 0x18f5ab87690>"
      ]
     },
     "metadata": {},
     "output_type": "display_data"
    }
   ],
   "source": [
    "@app.callback(Output('volume', 'figure'),\n",
    "              [Input('my-dropdown2', 'value')])\n",
    "def update_graph(selected_dropdown_value):\n",
    "    dropdown = {\"TSLA\": \"Tesla\",\"AAPL\": \"Apple\",\"FB\": \"Facebook\",\"MSFT\": \"Microsoft\",}\n",
    "    trace1 = []\n",
    "    for stock in selected_dropdown_value:\n",
    "        trace1.append(\n",
    "          go.Scatter(x=df[df[\"Stock\"] == stock][\"Date\"],\n",
    "                     y=df[df[\"Stock\"] == stock][\"Volume\"],\n",
    "                     mode='lines', opacity=0.7,\n",
    "                     name=f'Volume {dropdown[stock]}', textposition='bottom center'))\n",
    "    traces = [trace1]\n",
    "    data = [val for sublist in traces for val in sublist]\n",
    "    figure = {'data': data, \n",
    "              'layout': go.Layout(colorway=[\"#5E0DAC\", '#FF4F00', '#375CB1', \n",
    "                                            '#FF7400', '#FFF400', '#FF0056'],\n",
    "            height=600,\n",
    "            title=f\"Market Volume for {', '.join(str(dropdown[i]) for i in selected_dropdown_value)} Over Time\",\n",
    "            xaxis={\"title\":\"Date\",\n",
    "                   'rangeselector': {'buttons': list([{'count': 1, 'label': '1M', \n",
    "                                                       'step': 'month', \n",
    "                                                       'stepmode': 'backward'},\n",
    "                                                      {'count': 6, 'label': '6M',\n",
    "                                                       'step': 'month', \n",
    "                                                       'stepmode': 'backward'},\n",
    "                                                      {'step': 'all'}])},\n",
    "                   'rangeslider': {'visible': True}, 'type': 'date'},\n",
    "             yaxis={\"title\":\"Transactions Volume\"})}\n",
    "    return figure\n",
    "\n",
    "\n",
    "\n",
    "if __name__=='__main__':\n",
    "\tapp.run_server(debug=True)"
   ]
  },
  {
   "cell_type": "code",
   "execution_count": null,
   "id": "23bdf879-4073-4444-b0f1-0c31eccde3a6",
   "metadata": {},
   "outputs": [],
   "source": []
  },
  {
   "cell_type": "code",
   "execution_count": null,
   "id": "b4c2263a-30de-47d6-a47b-9b5593b23940",
   "metadata": {},
   "outputs": [],
   "source": []
  },
  {
   "cell_type": "code",
   "execution_count": null,
   "id": "4f6ddeb5-f898-4869-8879-dc545c193e2e",
   "metadata": {},
   "outputs": [],
   "source": []
  },
  {
   "cell_type": "code",
   "execution_count": null,
   "id": "fcd5f9af-130a-4f22-8b24-5284e0fe8bb0",
   "metadata": {},
   "outputs": [],
   "source": []
  },
  {
   "cell_type": "code",
   "execution_count": null,
   "id": "cb0ee7a3-4b42-4a5b-9c63-348b47648a6f",
   "metadata": {},
   "outputs": [],
   "source": []
  }
 ],
 "metadata": {
  "kernelspec": {
   "display_name": "Python 3 (ipykernel)",
   "language": "python",
   "name": "python3"
  },
  "language_info": {
   "codemirror_mode": {
    "name": "ipython",
    "version": 3
   },
   "file_extension": ".py",
   "mimetype": "text/x-python",
   "name": "python",
   "nbconvert_exporter": "python",
   "pygments_lexer": "ipython3",
   "version": "3.11.5"
  }
 },
 "nbformat": 4,
 "nbformat_minor": 5
}
